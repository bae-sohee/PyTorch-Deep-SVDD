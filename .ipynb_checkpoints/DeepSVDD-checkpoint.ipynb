{
 "cells": [
  {
   "cell_type": "code",
   "execution_count": 1,
   "metadata": {},
   "outputs": [],
   "source": [
    "import numpy as np\n",
    "import torch\n",
    "\n",
    "from train import TrainerDeepSVDD\n",
    "from preprocess import get_mnist"
   ]
  },
  {
   "cell_type": "code",
   "execution_count": 2,
   "metadata": {},
   "outputs": [],
   "source": [
    "class Args:\n",
    "\n",
    "    num_epochs=150\n",
    "    num_epochs_ae=150\n",
    "    patience=50\n",
    "    lr=1e-4\n",
    "    weight_decay=0.5e-6\n",
    "    lr_ae=1e-4\n",
    "    lr_milestones=[50]\n",
    "    batch_size=200\n",
    "    pretrain=True\n",
    "    latent_dim=True\n",
    "    normal_class=9\n",
    "    \n",
    "    \n",
    "args = Args()\n",
    "device = torch.device('cuda' if torch.cuda.is_available() else 'cpu')\n",
    "data = get_mnist(args)\n",
    "\n",
    "deep_SVDD = TrainerDeepSVDD(args, data, device)\n",
    "\n",
    "if args.pretrain:\n",
    "    deep_SVDD.pretrain()"
   ]
  },
  {
   "cell_type": "code",
   "execution_count": 3,
   "metadata": {},
   "outputs": [
    {
     "name": "stderr",
     "output_type": "stream",
     "text": [
      "/home/ec2-user/Deep-SVDD/train.py:97: UserWarning: Using a target size (torch.Size([32])) that is different to the input size (torch.Size([200, 32])). This will likely lead to incorrect results due to broadcasting. Please ensure they have the same size.\n",
      "  loss = F.mse_loss(z, c, reduction='mean')\n",
      "/home/ec2-user/Deep-SVDD/train.py:97: UserWarning: Using a target size (torch.Size([32])) that is different to the input size (torch.Size([149, 32])). This will likely lead to incorrect results due to broadcasting. Please ensure they have the same size.\n",
      "  loss = F.mse_loss(z, c, reduction='mean')\n"
     ]
    },
    {
     "name": "stdout",
     "output_type": "stream",
     "text": [
      "Training Deep SVDD... Epoch: 0, Loss: 0.016\n",
      "Training Deep SVDD... Epoch: 1, Loss: 0.008\n",
      "Training Deep SVDD... Epoch: 2, Loss: 0.005\n",
      "Training Deep SVDD... Epoch: 3, Loss: 0.003\n",
      "Training Deep SVDD... Epoch: 4, Loss: 0.003\n",
      "Training Deep SVDD... Epoch: 5, Loss: 0.002\n",
      "Training Deep SVDD... Epoch: 6, Loss: 0.002\n",
      "Training Deep SVDD... Epoch: 7, Loss: 0.001\n",
      "Training Deep SVDD... Epoch: 8, Loss: 0.001\n",
      "Training Deep SVDD... Epoch: 9, Loss: 0.001\n",
      "Training Deep SVDD... Epoch: 10, Loss: 0.001\n",
      "Training Deep SVDD... Epoch: 11, Loss: 0.001\n",
      "Training Deep SVDD... Epoch: 12, Loss: 0.001\n",
      "Training Deep SVDD... Epoch: 13, Loss: 0.001\n",
      "Training Deep SVDD... Epoch: 14, Loss: 0.001\n",
      "Training Deep SVDD... Epoch: 15, Loss: 0.001\n",
      "Training Deep SVDD... Epoch: 16, Loss: 0.001\n",
      "Training Deep SVDD... Epoch: 17, Loss: 0.000\n",
      "Training Deep SVDD... Epoch: 18, Loss: 0.000\n",
      "Training Deep SVDD... Epoch: 19, Loss: 0.000\n",
      "Training Deep SVDD... Epoch: 20, Loss: 0.000\n",
      "Training Deep SVDD... Epoch: 21, Loss: 0.000\n",
      "Training Deep SVDD... Epoch: 22, Loss: 0.000\n",
      "Training Deep SVDD... Epoch: 23, Loss: 0.000\n",
      "Training Deep SVDD... Epoch: 24, Loss: 0.000\n",
      "Training Deep SVDD... Epoch: 25, Loss: 0.000\n",
      "Training Deep SVDD... Epoch: 26, Loss: 0.000\n",
      "Training Deep SVDD... Epoch: 27, Loss: 0.000\n",
      "Training Deep SVDD... Epoch: 28, Loss: 0.000\n",
      "Training Deep SVDD... Epoch: 29, Loss: 0.000\n",
      "Training Deep SVDD... Epoch: 30, Loss: 0.000\n",
      "Training Deep SVDD... Epoch: 31, Loss: 0.000\n",
      "Training Deep SVDD... Epoch: 32, Loss: 0.000\n",
      "Training Deep SVDD... Epoch: 33, Loss: 0.000\n",
      "Training Deep SVDD... Epoch: 34, Loss: 0.000\n",
      "Training Deep SVDD... Epoch: 35, Loss: 0.000\n",
      "Training Deep SVDD... Epoch: 36, Loss: 0.000\n",
      "Training Deep SVDD... Epoch: 37, Loss: 0.000\n",
      "Training Deep SVDD... Epoch: 38, Loss: 0.000\n",
      "Training Deep SVDD... Epoch: 39, Loss: 0.000\n",
      "Training Deep SVDD... Epoch: 40, Loss: 0.000\n",
      "Training Deep SVDD... Epoch: 41, Loss: 0.000\n",
      "Training Deep SVDD... Epoch: 42, Loss: 0.000\n",
      "Training Deep SVDD... Epoch: 43, Loss: 0.000\n",
      "Training Deep SVDD... Epoch: 44, Loss: 0.000\n",
      "Training Deep SVDD... Epoch: 45, Loss: 0.000\n",
      "Training Deep SVDD... Epoch: 46, Loss: 0.000\n",
      "Training Deep SVDD... Epoch: 47, Loss: 0.000\n",
      "Training Deep SVDD... Epoch: 48, Loss: 0.000\n",
      "Training Deep SVDD... Epoch: 49, Loss: 0.000\n",
      "Training Deep SVDD... Epoch: 50, Loss: 0.000\n",
      "Training Deep SVDD... Epoch: 51, Loss: 0.000\n",
      "Training Deep SVDD... Epoch: 52, Loss: 0.000\n",
      "Training Deep SVDD... Epoch: 53, Loss: 0.000\n",
      "Training Deep SVDD... Epoch: 54, Loss: 0.000\n",
      "Training Deep SVDD... Epoch: 55, Loss: 0.000\n",
      "Training Deep SVDD... Epoch: 56, Loss: 0.000\n",
      "Training Deep SVDD... Epoch: 57, Loss: 0.000\n",
      "Training Deep SVDD... Epoch: 58, Loss: 0.000\n",
      "Training Deep SVDD... Epoch: 59, Loss: 0.000\n",
      "Training Deep SVDD... Epoch: 60, Loss: 0.000\n",
      "Training Deep SVDD... Epoch: 61, Loss: 0.000\n",
      "Training Deep SVDD... Epoch: 62, Loss: 0.000\n",
      "Training Deep SVDD... Epoch: 63, Loss: 0.000\n",
      "Training Deep SVDD... Epoch: 64, Loss: 0.000\n",
      "Training Deep SVDD... Epoch: 65, Loss: 0.000\n",
      "Training Deep SVDD... Epoch: 66, Loss: 0.000\n",
      "Training Deep SVDD... Epoch: 67, Loss: 0.000\n",
      "Training Deep SVDD... Epoch: 68, Loss: 0.000\n",
      "Training Deep SVDD... Epoch: 69, Loss: 0.000\n",
      "Training Deep SVDD... Epoch: 70, Loss: 0.000\n",
      "Training Deep SVDD... Epoch: 71, Loss: 0.000\n",
      "Training Deep SVDD... Epoch: 72, Loss: 0.000\n",
      "Training Deep SVDD... Epoch: 73, Loss: 0.000\n",
      "Training Deep SVDD... Epoch: 74, Loss: 0.000\n",
      "Training Deep SVDD... Epoch: 75, Loss: 0.000\n",
      "Training Deep SVDD... Epoch: 76, Loss: 0.000\n",
      "Training Deep SVDD... Epoch: 77, Loss: 0.000\n",
      "Training Deep SVDD... Epoch: 78, Loss: 0.000\n",
      "Training Deep SVDD... Epoch: 79, Loss: 0.000\n",
      "Training Deep SVDD... Epoch: 80, Loss: 0.000\n",
      "Training Deep SVDD... Epoch: 81, Loss: 0.000\n",
      "Training Deep SVDD... Epoch: 82, Loss: 0.000\n",
      "Training Deep SVDD... Epoch: 83, Loss: 0.000\n",
      "Training Deep SVDD... Epoch: 84, Loss: 0.000\n",
      "Training Deep SVDD... Epoch: 85, Loss: 0.000\n",
      "Training Deep SVDD... Epoch: 86, Loss: 0.000\n",
      "Training Deep SVDD... Epoch: 87, Loss: 0.000\n",
      "Training Deep SVDD... Epoch: 88, Loss: 0.000\n",
      "Training Deep SVDD... Epoch: 89, Loss: 0.000\n",
      "Training Deep SVDD... Epoch: 90, Loss: 0.000\n",
      "Training Deep SVDD... Epoch: 91, Loss: 0.000\n",
      "Training Deep SVDD... Epoch: 92, Loss: 0.000\n",
      "Training Deep SVDD... Epoch: 93, Loss: 0.000\n",
      "Training Deep SVDD... Epoch: 94, Loss: 0.000\n",
      "Training Deep SVDD... Epoch: 95, Loss: 0.000\n",
      "Training Deep SVDD... Epoch: 96, Loss: 0.000\n",
      "Training Deep SVDD... Epoch: 97, Loss: 0.000\n",
      "Training Deep SVDD... Epoch: 98, Loss: 0.000\n",
      "Training Deep SVDD... Epoch: 99, Loss: 0.000\n",
      "Training Deep SVDD... Epoch: 100, Loss: 0.000\n",
      "Training Deep SVDD... Epoch: 101, Loss: 0.000\n",
      "Training Deep SVDD... Epoch: 102, Loss: 0.000\n",
      "Training Deep SVDD... Epoch: 103, Loss: 0.000\n",
      "Training Deep SVDD... Epoch: 104, Loss: 0.000\n",
      "Training Deep SVDD... Epoch: 105, Loss: 0.000\n",
      "Training Deep SVDD... Epoch: 106, Loss: 0.000\n",
      "Training Deep SVDD... Epoch: 107, Loss: 0.000\n",
      "Training Deep SVDD... Epoch: 108, Loss: 0.000\n",
      "Training Deep SVDD... Epoch: 109, Loss: 0.000\n",
      "Training Deep SVDD... Epoch: 110, Loss: 0.000\n",
      "Training Deep SVDD... Epoch: 111, Loss: 0.000\n",
      "Training Deep SVDD... Epoch: 112, Loss: 0.000\n",
      "Training Deep SVDD... Epoch: 113, Loss: 0.000\n",
      "Training Deep SVDD... Epoch: 114, Loss: 0.000\n",
      "Training Deep SVDD... Epoch: 115, Loss: 0.000\n",
      "Training Deep SVDD... Epoch: 116, Loss: 0.000\n",
      "Training Deep SVDD... Epoch: 117, Loss: 0.000\n",
      "Training Deep SVDD... Epoch: 118, Loss: 0.000\n",
      "Training Deep SVDD... Epoch: 119, Loss: 0.000\n",
      "Training Deep SVDD... Epoch: 120, Loss: 0.000\n",
      "Training Deep SVDD... Epoch: 121, Loss: 0.000\n",
      "Training Deep SVDD... Epoch: 122, Loss: 0.000\n",
      "Training Deep SVDD... Epoch: 123, Loss: 0.000\n",
      "Training Deep SVDD... Epoch: 124, Loss: 0.000\n",
      "Training Deep SVDD... Epoch: 125, Loss: 0.000\n",
      "Training Deep SVDD... Epoch: 126, Loss: 0.000\n",
      "Training Deep SVDD... Epoch: 127, Loss: 0.000\n",
      "Training Deep SVDD... Epoch: 128, Loss: 0.000\n",
      "Training Deep SVDD... Epoch: 129, Loss: 0.000\n",
      "Training Deep SVDD... Epoch: 130, Loss: 0.000\n",
      "Training Deep SVDD... Epoch: 131, Loss: 0.000\n",
      "Training Deep SVDD... Epoch: 132, Loss: 0.000\n",
      "Training Deep SVDD... Epoch: 133, Loss: 0.000\n",
      "Training Deep SVDD... Epoch: 134, Loss: 0.000\n",
      "Training Deep SVDD... Epoch: 135, Loss: 0.000\n",
      "Training Deep SVDD... Epoch: 136, Loss: 0.000\n",
      "Training Deep SVDD... Epoch: 137, Loss: 0.000\n",
      "Training Deep SVDD... Epoch: 138, Loss: 0.000\n",
      "Training Deep SVDD... Epoch: 139, Loss: 0.000\n",
      "Training Deep SVDD... Epoch: 140, Loss: 0.000\n",
      "Training Deep SVDD... Epoch: 141, Loss: 0.000\n",
      "Training Deep SVDD... Epoch: 142, Loss: 0.000\n",
      "Training Deep SVDD... Epoch: 143, Loss: 0.000\n",
      "Training Deep SVDD... Epoch: 144, Loss: 0.000\n",
      "Training Deep SVDD... Epoch: 145, Loss: 0.000\n",
      "Training Deep SVDD... Epoch: 146, Loss: 0.000\n",
      "Training Deep SVDD... Epoch: 147, Loss: 0.000\n",
      "Training Deep SVDD... Epoch: 148, Loss: 0.000\n",
      "Training Deep SVDD... Epoch: 149, Loss: 0.000\n"
     ]
    }
   ],
   "source": [
    "deep_SVDD.train()"
   ]
  },
  {
   "cell_type": "code",
   "execution_count": 10,
   "metadata": {},
   "outputs": [],
   "source": [
    "net = deep_SVDD.net\n",
    "c = deep_SVDD.c\n",
    "scores = []\n",
    "labels = []\n",
    "\n",
    "net.eval()\n",
    "with torch.no_grad():\n",
    "    for x, y in deep_SVDD.test_loader:\n",
    "        x = x.float().to(device)\n",
    "        z = net(x)\n",
    "        dist = torch.sum((z - c) ** 2, dim=1)\n",
    "        scores.append(dist.detach().cpu())\n",
    "        labels.append(y.cpu())"
   ]
  },
  {
   "cell_type": "code",
   "execution_count": 11,
   "metadata": {},
   "outputs": [],
   "source": [
    "scores = torch.cat(scores).numpy()\n",
    "labels = torch.cat(labels).numpy()"
   ]
  },
  {
   "cell_type": "code",
   "execution_count": 12,
   "metadata": {},
   "outputs": [
    {
     "data": {
      "image/png": "[encoded data removed]",
      "text/plain": [
       "<Figure size 432x288 with 1 Axes>"
      ]
     },
     "metadata": {},
     "output_type": "display_data"
    }
   ],
   "source": [
    "import pandas as pd \n",
    "import matplotlib.pyplot as plt\n",
    "\n",
    "\n",
    "scores_in = scores[np.where(labels==args.normal_class)[0]]\n",
    "scores_out = scores[np.where(labels!=args.normal_class)[0]]\n",
    "\n",
    "\n",
    "in_ = pd.DataFrame(scores_in, columns=['Inlier'])\n",
    "out_ = pd.DataFrame(scores_out, columns=['Outlier'])\n",
    "\n",
    "\n",
    "fig, ax = plt.subplots()\n",
    "in_.plot.kde(ax=ax, legend=True, title='Outliers vs Inliers (OCSVM)')\n",
    "out_.plot.kde(ax=ax, legend=True)\n",
    "plt.xlim(-0.05, 0.08)\n",
    "ax.grid(axis='x')\n",
    "ax.grid(axis='y')\n",
    "plt.show()"
   ]
  },
  {
   "cell_type": "code",
   "execution_count": 13,
   "metadata": {},
   "outputs": [],
   "source": [
    "labels[np.where(labels!=args.normal_class)[0]] = 20\n",
    "labels[np.where(labels==args.normal_class)[0]] = 10\n",
    "labels[np.where(labels==10)[0]] = 0\n",
    "labels[np.where(labels==20)[0]] = 1"
   ]
  },
  {
   "cell_type": "code",
   "execution_count": 14,
   "metadata": {},
   "outputs": [
    {
     "data": {
      "text/plain": [
       "0.9449849585297223"
      ]
     },
     "execution_count": 14,
     "metadata": {},
     "output_type": "execute_result"
    }
   ],
   "source": [
    "from sklearn.metrics import roc_auc_score\n",
    "\n",
    "test_auc = roc_auc_score(labels, scores)\n",
    "test_auc"
   ]
  },
  {
   "cell_type": "code",
   "execution_count": null,
   "metadata": {},
   "outputs": [],
   "source": []
  }
 ],
 "metadata": {
  "kernelspec": {
   "display_name": "Python 3",
   "language": "python",
   "name": "python3"
  },
  "language_info": {
   "codemirror_mode": {
    "name": "ipython",
    "version": 3
   },
   "file_extension": ".py",
   "mimetype": "text/x-python",
   "name": "python",
   "nbconvert_exporter": "python",
   "pygments_lexer": "ipython3",
   "version": "3.6.5"
  }
 },
 "nbformat": 4,
 "nbformat_minor": 2
}
